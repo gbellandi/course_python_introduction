{
 "cells": [
  {
   "cell_type": "markdown",
   "metadata": {},
   "source": [
    "# ANTEA (I)PYTHON INTRODUCTION <br> Introduction\n",
    "\n",
    "> *ANTEA Python Workshop*  \n",
    "> *March 9 and 11, 2015*\n",
    "\n",
    "> *© 2015, Stijn Van Hoey and Joris Van den Bossche  (<mailto:stijnvanhoey@gmail.com>, <mailto:jorisvandenbossche@gmail.com>). Licensed under [CC BY 4.0 Creative Commons](http://creativecommons.org/licenses/by/4.0/)*\n",
    "\n",
    "---"
   ]
  },
  {
   "cell_type": "markdown",
   "metadata": {},
   "source": [
    "<big><center>To run a cell: push the start triangle in the menu or type **SHIFT + ENTER**"
   ]
  },
  {
   "cell_type": "markdown",
   "metadata": {},
   "source": [
    "# Why Python?"
   ]
  },
  {
   "cell_type": "code",
   "execution_count": 1,
   "metadata": {
    "collapsed": false
   },
   "outputs": [
    {
     "data": {
      "text/html": [
       "<img src=\"http://python.org/images/python-logo.gif\"/>"
      ],
      "text/plain": [
       "<IPython.core.display.Image object>"
      ]
     },
     "execution_count": 1,
     "metadata": {},
     "output_type": "execute_result"
    }
   ],
   "source": [
    "from IPython.display import Image\n",
    "Image(url='http://python.org/images/python-logo.gif')"
   ]
  },
  {
   "cell_type": "markdown",
   "metadata": {},
   "source": [
    "## PYTHON IS…"
   ]
  },
  {
   "cell_type": "markdown",
   "metadata": {},
   "source": [
    "### …OPEN SOURCE \n",
    "* No license costs!\n",
    "\n",
    "### …WIDESPREAD\n",
    "* Open source community world-wide ensures **fast development**\n",
    "* Python is a standard in **GIS** (commercial and non-commercial tools)\n",
    "* Used in other **scientific  institutes** and non-scientific institutes  (Google, NASA, ESRI, VMM,...)\n",
    "* **Multiplatform** (linux, windows,…)\n",
    "\n",
    "### …READABLE\n",
    "\n",
    "    It's easy to learn, easy to read and fast to develop\n",
    "\n",
    "* Accessible by people with/without prior knowledge\n",
    "    * Useful for starting user, but increasing functionality when progressing the learning curve\n",
    "    * Traceable when well-commented + recycling of work possible!\n",
    "* Less code required for same functionality\n",
    "* Communication tool between scientists and software engineer\n",
    "* **Interpretative**, which means that it there are no compiling issues when using on different platforms\n",
    "* Version management makes workflow **traceable** and **reproducible** instead of ‘what did you/I clicked a few months ago?’-style\n",
    "\n",
    "### …MULTI-FUNCTIONAL\n",
    "\n",
    "#### Research and development\n",
    "\n",
    "* Currently available scientific libraries fulfill most of the basic things **scientist/researcher needs** like statistical analysis, matrix calculation, GIS-functionalities, differential equations, plotting, batching,...\n",
    "* Researcher **prototypes** code in Python, tests the possibilities, publishes etc. If cost-efficient this code can be translated to (commercial) packages or web-based services and is already accepted by the community. Bottle-necks can be tackled by more advanced programmers in C/C++/Fortran.\n",
    "\n",
    "#### Daily use\n",
    "\n",
    "Automation of time-consuming returning tasks (vbn!!)  + interchangeable between researchers\n",
    "\n",
    "Some examples:\n",
    "* handling textfiles\n",
    "* doing same job for all files in a directory\n",
    "* quick plotting output model/...\n",
    "\n",
    "#### Pre and Postprocessing\n",
    "\n",
    "* Combination with commercial packages, e.g. Preparing inputfiles\n",
    "* Create ‘batch-type’ file to automatically let model run for different inputs/situations\n",
    "* Combination with other programming languages and programs.\n",
    "* Binds to C/C++, Fortran, R,... which gives also the opportunity to outsource the CPU intensive stuff or optimize certain bottlenecks by IT-support\n"
   ]
  },
  {
   "cell_type": "markdown",
   "metadata": {},
   "source": [
    "### ...SO WHAT? The Holy Grail ? No!\n",
    "* Commercial packages give specific support  and more direct help-functions (cfr. MATLAB)\n",
    "* Commercial packages can be more client-friendly\n",
    "* For hard numbercrunching stuff, Python not the fastest solution\n",
    "* Fortran, C++ etc are also ‘widespread’, a language amongst the others\n",
    "* Risk of getting lost in the forest of ‘useful packages’"
   ]
  },
  {
   "cell_type": "markdown",
   "metadata": {},
   "source": [
    "# Working with python."
   ]
  },
  {
   "cell_type": "markdown",
   "metadata": {},
   "source": [
    "## 1. IPython Console"
   ]
  },
  {
   "cell_type": "markdown",
   "metadata": {},
   "source": [
    "Python vs IPython?"
   ]
  },
  {
   "cell_type": "code",
   "execution_count": null,
   "metadata": {
    "collapsed": true
   },
   "outputs": [],
   "source": []
  },
  {
   "cell_type": "markdown",
   "metadata": {},
   "source": [
    "## 2. IDE: Spyder"
   ]
  },
  {
   "cell_type": "markdown",
   "metadata": {},
   "source": [
    "The familiar environment for Matlab-users..."
   ]
  },
  {
   "cell_type": "markdown",
   "metadata": {
    "collapsed": true
   },
   "source": [
    "Spyder is just an IDE amongst the others, shipped with Anaconda. However, many other IDE environments do exist:\n",
    "* PyCharm: Dedicated to web-development and Django applications https://www.jetbrains.com/pycharm/ \n",
    "* Eclipse + pyDev plugin: If you like working in Eclipse, just add the environment http://pydev.org/"
   ]
  },
  {
   "cell_type": "markdown",
   "metadata": {
    "slideshow": {
     "slide_type": "slide"
    }
   },
   "source": [
    "## 3. IPython Notebook"
   ]
  },
  {
   "cell_type": "markdown",
   "metadata": {},
   "source": [
    "We will work in ipython notebooks during this course. This provides an interactive scripting environment, where cells can have different uses:"
   ]
  },
  {
   "cell_type": "markdown",
   "metadata": {
    "slideshow": {
     "slide_type": "slide"
    }
   },
   "source": [
    "## Code"
   ]
  },
  {
   "cell_type": "code",
   "execution_count": 2,
   "metadata": {
    "collapsed": false
   },
   "outputs": [
    {
     "name": "stdout",
     "output_type": "stream",
     "text": [
      "Hello BOT\n"
     ]
    }
   ],
   "source": [
    "#Code cel, dan gebruiken we Python\n",
    "print('Hello BOT')"
   ]
  },
  {
   "cell_type": "code",
   "execution_count": 3,
   "metadata": {
    "collapsed": false
   },
   "outputs": [
    {
     "name": "stdout",
     "output_type": "stream",
     "text": [
      "15\n"
     ]
    }
   ],
   "source": [
    "BOT = 10\n",
    "print(BOT + 5)"
   ]
  },
  {
   "cell_type": "markdown",
   "metadata": {
    "slideshow": {
     "slide_type": "slide"
    }
   },
   "source": [
    "## Markdown"
   ]
  },
  {
   "cell_type": "markdown",
   "metadata": {},
   "source": [
    "Markdown, using Markdown syntax. With the syntax, you can make text **bold** or *italic*, amongst many other things..."
   ]
  },
  {
   "cell_type": "markdown",
   "metadata": {},
   "source": [
    "Mathematical formulas can also be incorporated\n",
    "$$\\frac{dBZV}{dt}=BZV_{in} - k_1 .BZV$$\n",
    "$$\\frac{dOZ}{dt}=k_2 .(OZ_{sat}-OZ) - k_1 .BZV$$\n"
   ]
  },
  {
   "cell_type": "markdown",
   "metadata": {
    "slideshow": {
     "slide_type": "subslide"
    }
   },
   "source": [
    "Or tables:\n",
    " \n",
    " Symbool | verklaring\n",
    " --- | --- \n",
    " $BZV_{(t=0)}$      | initiële biochemische zuurstofvraag (7.33 mg.l-1)\n",
    " $OZ_{(t=0)}$\t    | initiële opgeloste zuurstof (8.5 mg.l-1)\n",
    " $BZV_{in}$\t\t  | input BZV(1 mg.l-1.min-1)\n",
    " $OZ_{sat}$\t\t  | saturatieconcentratie opgeloste zuurstof (11 mg.l-1)\n",
    " $k_1$\t\t      | bacteriële degradatiesnelheid (0.3 min-1)\n",
    " $k_2$\t\t      | reäeratieconstante (0.4 min-1)\n"
   ]
  },
  {
   "cell_type": "markdown",
   "metadata": {
    "slideshow": {
     "slide_type": "subslide"
    }
   },
   "source": [
    "Code can also be incorporated, but than just to illustrate:"
   ]
  },
  {
   "cell_type": "markdown",
   "metadata": {},
   "source": [
    "```python\n",
    "BOT = 12\n",
    "print(BOT)\n",
    "```"
   ]
  },
  {
   "cell_type": "markdown",
   "metadata": {},
   "source": [
    "You can also use HTML commands, just check this cell:\n",
    "<h3> Een html-gewijze titel met &#60;h3&#62; </h3> <p></p>\n",
    "<b> Een vette tekst met &#60;b&#62; </b> of <i>een cursieve tekst met &#60;i&#62; </i>"
   ]
  },
  {
   "cell_type": "markdown",
   "metadata": {},
   "source": [
    "### Headings of different sizes:"
   ]
  },
  {
   "cell_type": "markdown",
   "metadata": {
    "slideshow": {
     "slide_type": "slide"
    }
   },
   "source": [
    "## Raw Text"
   ]
  },
  {
   "cell_type": "raw",
   "metadata": {},
   "source": [
    "Cfr. any text editor"
   ]
  },
  {
   "cell_type": "markdown",
   "metadata": {},
   "source": [
    "See also: https://github.com/adam-p/markdown-here/wiki/Markdown-Cheatsheet"
   ]
  },
  {
   "cell_type": "markdown",
   "metadata": {
    "collapsed": true
   },
   "source": [
    "## ESSENTIALS!"
   ]
  },
  {
   "cell_type": "markdown",
   "metadata": {
    "collapsed": true
   },
   "source": [
    "* The **TAB** button is essential: It provides you all **possible actions** you can do after loading in a library *AND* it is used for **automatic autocompletion**:"
   ]
  },
  {
   "cell_type": "code",
   "execution_count": 4,
   "metadata": {
    "collapsed": false
   },
   "outputs": [],
   "source": [
    "import os"
   ]
  },
  {
   "cell_type": "code",
   "execution_count": 5,
   "metadata": {
    "collapsed": false
   },
   "outputs": [
    {
     "data": {
      "text/plain": [
       "<function posix.mkdir>"
      ]
     },
     "execution_count": 5,
     "metadata": {},
     "output_type": "execute_result"
    }
   ],
   "source": [
    "os.mkdir"
   ]
  },
  {
   "cell_type": "code",
   "execution_count": 6,
   "metadata": {
    "collapsed": true
   },
   "outputs": [],
   "source": [
    "my_very_long_variable_name = 3"
   ]
  },
  {
   "cell_type": "code",
   "execution_count": null,
   "metadata": {
    "collapsed": true
   },
   "outputs": [],
   "source": [
    "my_"
   ]
  },
  {
   "cell_type": "markdown",
   "metadata": {
    "collapsed": true
   },
   "source": [
    "* The  **SHIFT-TAB** combination is ultra essential to get information/help about the current operation "
   ]
  },
  {
   "cell_type": "code",
   "execution_count": 7,
   "metadata": {
    "collapsed": false
   },
   "outputs": [
    {
     "data": {
      "text/plain": [
       "3"
      ]
     },
     "execution_count": 7,
     "metadata": {},
     "output_type": "execute_result"
    }
   ],
   "source": [
    "round(3.2)"
   ]
  },
  {
   "cell_type": "code",
   "execution_count": 8,
   "metadata": {
    "collapsed": false
   },
   "outputs": [
    {
     "data": {
      "text/plain": [
       "<function posix.mkdir>"
      ]
     },
     "execution_count": 8,
     "metadata": {},
     "output_type": "execute_result"
    }
   ],
   "source": [
    "os.mkdir"
   ]
  },
  {
   "cell_type": "code",
   "execution_count": 9,
   "metadata": {
    "collapsed": false
   },
   "outputs": [],
   "source": [
    "# An alternative is to put a question mark behind the command\n",
    "os.mkdir?"
   ]
  },
  {
   "cell_type": "markdown",
   "metadata": {},
   "source": [
    "**Exercise**: What happens if you put two question marks behind the command?"
   ]
  },
  {
   "cell_type": "code",
   "execution_count": null,
   "metadata": {
    "collapsed": true
   },
   "outputs": [],
   "source": []
  },
  {
   "cell_type": "markdown",
   "metadata": {},
   "source": [
    "* **Stackoverflow** is really, really, really nice!\n",
    "\n",
    "http://stackoverflow.com/questions/tagged/python"
   ]
  },
  {
   "cell_type": "markdown",
   "metadata": {},
   "source": [
    "* Google is your friend!"
   ]
  },
  {
   "cell_type": "code",
   "execution_count": null,
   "metadata": {
    "collapsed": false
   },
   "outputs": [],
   "source": []
  },
  {
   "cell_type": "markdown",
   "metadata": {},
   "source": [
    "# Let's get started!"
   ]
  },
  {
   "cell_type": "code",
   "execution_count": 10,
   "metadata": {
    "collapsed": true
   },
   "outputs": [],
   "source": [
    "from IPython.display import FileLink, FileLinks"
   ]
  },
  {
   "cell_type": "code",
   "execution_count": 11,
   "metadata": {
    "collapsed": false
   },
   "outputs": [
    {
     "data": {
      "text/html": [
       "./<br>\n",
       "&nbsp;&nbsp;<a href='./00-ipython_introduction.ipynb' target='_blank'>00-ipython_introduction.ipynb</a><br>\n",
       "&nbsp;&nbsp;<a href='./01-basic.ipynb' target='_blank'>01-basic.ipynb</a><br>\n",
       "&nbsp;&nbsp;<a href='./02-control_flow.ipynb' target='_blank'>02-control_flow.ipynb</a><br>\n",
       "&nbsp;&nbsp;<a href='./03-functions.ipynb' target='_blank'>03-functions.ipynb</a><br>\n",
       "&nbsp;&nbsp;<a href='./04-reusing_code.ipynb' target='_blank'>04-reusing_code.ipynb</a><br>\n",
       "./.ipynb_checkpoints/<br>\n",
       "&nbsp;&nbsp;<a href='./.ipynb_checkpoints/00-ipython_introduction-checkpoint.ipynb' target='_blank'>00-ipython_introduction-checkpoint.ipynb</a><br>\n",
       "&nbsp;&nbsp;<a href='./.ipynb_checkpoints/01-basic-checkpoint.ipynb' target='_blank'>01-basic-checkpoint.ipynb</a><br>\n",
       "./data/<br>\n",
       "&nbsp;&nbsp;<a href='./data/out1.txt' target='_blank'>out1.txt</a><br>\n",
       "&nbsp;&nbsp;<a href='./data/out2.txt' target='_blank'>out2.txt</a><br>\n",
       "&nbsp;&nbsp;<a href='./data/out3.txt' target='_blank'>out3.txt</a><br>\n",
       "&nbsp;&nbsp;<a href='./data/out4.txt' target='_blank'>out4.txt</a><br>\n",
       "&nbsp;&nbsp;<a href='./data/values.txt' target='_blank'>values.txt</a><br>"
      ],
      "text/plain": [
       "./\n",
       "  00-ipython_introduction.ipynb\n",
       "  01-basic.ipynb\n",
       "  02-control_flow.ipynb\n",
       "  03-functions.ipynb\n",
       "  04-reusing_code.ipynb\n",
       "./.ipynb_checkpoints/\n",
       "  00-ipython_introduction-checkpoint.ipynb\n",
       "  01-basic-checkpoint.ipynb\n",
       "./data/\n",
       "  out1.txt\n",
       "  out2.txt\n",
       "  out3.txt\n",
       "  out4.txt\n",
       "  values.txt"
      ]
     },
     "execution_count": 11,
     "metadata": {},
     "output_type": "execute_result"
    }
   ],
   "source": [
    "FileLinks('.')"
   ]
  },
  {
   "cell_type": "markdown",
   "metadata": {},
   "source": [
    "We start with the basic.ipynb..."
   ]
  }
 ],
 "metadata": {
  "kernelspec": {
   "display_name": "Python 3",
   "language": "python",
   "name": "python3"
  },
  "language_info": {
   "codemirror_mode": {
    "name": "ipython",
    "version": 3
   },
   "file_extension": ".py",
   "mimetype": "text/x-python",
   "name": "python",
   "nbconvert_exporter": "python",
   "pygments_lexer": "ipython3",
   "version": "3.5.1"
  }
 },
 "nbformat": 4,
 "nbformat_minor": 0
}
